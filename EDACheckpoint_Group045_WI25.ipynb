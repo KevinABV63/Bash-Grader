{
  "cells": [
    {
      "cell_type": "markdown",
      "metadata": {
        "id": "g1uyN8GrmFXS"
      },
      "source": [
        "**If you lost points on the last checkpoint you can get them back by responding to TA/IA feedback**  \n",
        "\n",
        "Update/change the relevant sections where you lost those points, make sure you respond on GitHub Issues to your TA/IA to call their attention to the changes you made here.\n",
        "\n",
        "Please update your Timeline... no battle plan survives contact with the enemy, so make sure we understand how your plans have changed."
      ]
    },
    {
      "cell_type": "markdown",
      "metadata": {
        "id": "UDsIa5uWmFXV"
      },
      "source": [
        "# COGS 108 - EDA Checkpoint"
      ]
    },
    {
      "cell_type": "markdown",
      "metadata": {
        "id": "Lc7a_5vNmFXV"
      },
      "source": [
        "# Names\n",
        "\n",
        "- Landon Sean\n",
        "- Jocelyn Ng\n",
        "- Kevin Briceno\n",
        "- Alexa Der\n",
        "- Leyna Pham"
      ]
    },
    {
      "cell_type": "markdown",
      "metadata": {
        "id": "kcdF8BcKmFXW"
      },
      "source": [
        "# Research Question"
      ]
    },
    {
      "cell_type": "markdown",
      "metadata": {
        "id": "7z_XIux1mFXW"
      },
      "source": [
        "How do various features influence the sale price of houses in San Francisco, California?\n",
        "Our research question consists of three parts listed below:\n",
        "\n",
        "Feature I - Square Footage\n",
        "\n",
        "Feature II - Number of bedrooms\n",
        "\n",
        "Feature III - Year built\n",
        "\n"
      ]
    },
    {
      "cell_type": "markdown",
      "metadata": {
        "id": "vno3QUiomFXW"
      },
      "source": [
        "## Background and Prior Work"
      ]
    },
    {
      "cell_type": "markdown",
      "metadata": {
        "id": "efn0Q5pmmFXW"
      },
      "source": [
        "\n",
        "This project aims to explore how various factors affect the sale price of houses in San Francisco. Alexander Fromm Lurie, a San Francisco real estate advisor with Compass, “[San Francisco] The Bay Area has among the strongest economies in the world, which attracts talent and infuses an abundance of money in the region.” Real estate markets can be highly variable, with certain features of a property such as its size, location, and age, that often have a significant influence on its value. By analyzing a dataset of housing prices in San Francisco, this project aims to understand the relationship between sale price and key features like square footage, number of bedrooms, neighborhood, and year built. The main objective is to identify which of these independent variables most strongly predict the sale price of homes, which can offer relevant information for homebuyers, sellers, and real estate investors.\n",
        "\n",
        "This topic has been explored and numerous cases have been done figuring out the why. The article by The Own Team explores the biggest factors influencing home prices today. The author, Wilson Leung, explains that a strong job market and economic growth tend to push prices up, while high interest rates can slow down demand. Location remains key, with desirable neighborhoods, school districts, and amenities significantly affecting property values <a name=\"#cite_ref-1\"></a>[<sup>1</sup>](#cite_note-1). He highlights the impact of location, home condition, and government policies on valuations. With mortgage rates fluctuating, he advises buyers and sellers to stay informed and monitor trends.\n",
        "\n",
        "Kara Maria Kockelman’s research on 'The Effects of Location Elements on Home Purchase Prices and Rents: Evidence from the San Francisco Bay Area' highlights the effects of locational factors on home prices and rent in the San Francisco Bay Area. Her study reveals that properties with better access to job centers, highways, and public transit tend to have higher values, and homes with shorter commute times are also priced higher. Neighborhood features, such as income levels, amenity accessibility, and crime rates also affect housing costs <a name=\"cite_ref-2\"></a>[<sup>2</sup>](#cite_note-2). This seemed to be similar to a subsection that our team would like to answer. Environmental factors, including pollution levels and scenic views, also play a significant role in determining property values. By employing regression models, the study quantifies these impacts, which ultimately resulted in the finding that location-based factors—such as accessibility, neighborhood quality, and environmental conditions—collectively account for significant variations in home prices and rents. Similarly to our team’s research question, this study underscores the importance of these features in the value of real estate.\n",
        "\n",
        "1. <a name=\"#cite_note-1\"></a> [^](#cite_ref-1) Leung, W. (2024). The Top Factors Affecting House Prices and How to Navigate Them. The Own Team.\n",
        "(https://www.theownteam.com/blog/the-top-factors-affecting-house-prices-and-how-to-navigate-them/)\n",
        "2. <a name=\"cite_note-1\"></a> [^](#cite_ref-2) Kockelman, K. (2024). The Effects of Location Elements on Home Purchase Prices and Rents: Evidence from the San Francisco Bay Area. University of California, Berkeley, 1997\n",
        "(chrome-extension://bdfcnmeidppjeaggnmidamkiddifkdib/viewer.html?file=https://www.caee.utexas.edu/prof/kockelman/public_html/homepric.pdf)"
      ]
    },
    {
      "cell_type": "markdown",
      "metadata": {
        "id": "MOYNPndDmFXX"
      },
      "source": [
        "# Hypothesis\n"
      ]
    },
    {
      "cell_type": "markdown",
      "metadata": {
        "id": "PeKiIHmLmFXX"
      },
      "source": [
        "\n",
        "To assess the influence of home buyer features on sale price, we ranked them as follows: 1) square footage is likely the most significant factor, given the limited space in San Francisco; 2) the number of bedrooms follows closely, as space constraints also make this a key consideration; and 3) the year built, which is less impactful compared to the other two features, as renovations can diminish the relevance of a home's original construction date. While these features appear strongly correlated with higher sale prices, it’s important to consider potential nonlinear relationships, as individual buyer preferences may affect how these factors influence pricing.\n",
        "\n"
      ]
    },
    {
      "cell_type": "markdown",
      "metadata": {
        "id": "Vb8Rl_0lmFXX"
      },
      "source": [
        "# Data"
      ]
    },
    {
      "cell_type": "markdown",
      "metadata": {
        "id": "ewGPdgAQmFXY"
      },
      "source": [
        "## Data overview\n",
        "\n",
        "Dataset #1\n",
        "\n",
        "Dataset Name: Zillow House Price Data\n",
        "\n",
        "Link to the dataset: https://www.kaggle.com/datasets/paultimothymooney/zillow-house-price-data?resource=download\n",
        "\n",
        "Number of observations: 100 (specifically related to San Francisco)\n",
        "\n",
        "Number of variables: 6\n",
        "\n",
        "For the Zillow House Price Data dataset, we will focus on housing price-related variables specific to San Francisco. This dataset contains multiple tables pertaining to the median prices of homes specifically the number of bedrooms which will be important for our study. As for the timeframe for our datasets this one specifically is between 2008 to 2020, the other datasets we're using may be different but we'll focus on the timeframe that overlays the most.\n",
        "Key variables include:\n",
        "- RegionName (City name, filtered for San Francisco)\n",
        "- State (Filtered for CA)\n",
        "- Bedroom (# of bedrooms)\n",
        "- Date Columns (Monthly home price values over time)\n",
        "\n",
        "This dataset consists of time-series data where housing prices are recorded for each month\n",
        "For data wrangling, we need to:\n",
        "- Filter for San Francisco (RegionName == San Francisco and State == CA)\n",
        "- Drop irrelevant columns (like Unnamed: 0, RegionID, etc.)\n",
        "- Handle missing values, especially in time-series columns\n",
        "\n",
        "Dataset #2\n",
        "  - Dataset Name: Housing Inventory: Median Listing Price per Square Feet in San Francisco County/city, CA\n",
        "  - Link to the dataset: https://fred.stlouisfed.org/data/MEDLISPRIPERSQUFEE6075\n",
        "  - Number of observations: 102\n",
        "  - Number of variables: 2\n",
        "\n",
        "For this dataset, we will be utilizing the two variables, which are date (ranges monthly from July 2016 to December 2024) and value (in US dollars of the median listing price per square foot in a given market during a specific month).\n",
        "Thus, this dataset also contains time-series data where the median listing price per square footage is documented monthly.\n",
        "For data wrangling, cleaning, and preprocessing, we need to:\n",
        "- Check for missing values, incorrect data types, and duplicates\n",
        "- Make sure that the Date column is formatted as a datetime object and the Value column is numeric\n",
        "- Filter any outliers within a specific percentile range.\n",
        "- Extract time-based features such as year, month, and quarter from the Date column to improve data analysis\n",
        "\n",
        "We plan to combine these datasets by analyzing housing prices in San Francisco to understand how they can be influenced by the number of bedrooms and the median price per square footage of the house. For example, more bedrooms may imply more square footage in a house, thus concluding that the median housing price would be more expensive."
      ]
    },
    {
      "cell_type": "markdown",
      "metadata": {
        "id": "1Ckoir-MmFXY"
      },
      "source": [
        "## Dataset Zillow House Price Data"
      ]
    },
    {
      "cell_type": "code",
      "execution_count": 2,
      "metadata": {
        "id": "P1LPm4fMmFXY",
        "outputId": "70940a12-b39a-4978-ff04-0a44963c1138",
        "colab": {
          "base_uri": "https://localhost:8080/",
          "height": 193
        }
      },
      "outputs": [
        {
          "output_type": "error",
          "ename": "SyntaxError",
          "evalue": "leading zeros in decimal integer literals are not permitted; use an 0o prefix for octal integers (<ipython-input-2-553d55caf9cc>, line 1)",
          "traceback": [
            "\u001b[0;36m  File \u001b[0;32m\"<ipython-input-2-553d55caf9cc>\"\u001b[0;36m, line \u001b[0;32m1\u001b[0m\n\u001b[0;31m    |RegionID|SizeRank|RegionName       |RegionType|StateName|2018-08-31|2018-09-30|2018-10-31|2018-11-30|2018-12-31|2019-01-31|2019-02-28|2019-03-31|2019-04-30|2019-05-31|2019-06-30|2019-07-31|2019-08-31|2019-09-30|2019-10-31|2019-11-30|2019-12-31|2020-01-31|2020-02-29|2020-03-31|2020-04-30|2020-05-31|2020-06-30|2020-07-31|2020-08-31|2020-09-30|2020-10-31|2020-11-30|2020-12-31|2021-01-31|2021-02-28|2021-03-31|2021-04-30|2021-05-31|2021-06-30|2021-07-31|2021-08-31|2021-09-30|2021-10-31|2021-11-30|2021-12-31|2022-01-31|2022-02-28|2022-03-31|2022-04-30|2022-05-31|2022-06-30|2022-07-31|2022-08-31|2022-09-30|2022-10-31|2022-11-30|2022-12-31|2023-01-31|2023-02-28|2023-03-31|2023-04-30|2023-05-31|2023-06-30|2023-07-31|2023-08-31|2023-09-30|2023-10-31|2023-11-30|2023-12-31|2024-01-31|2024-02-29|2024-03-31|2024-04-30|2024-05-31|2024-06-30|2024-07-31|2024-08-31|2024-09-30|2024-10-31|2024-11-30|2024-12-31|\u001b[0m\n\u001b[0m                                                                   ^\u001b[0m\n\u001b[0;31mSyntaxError\u001b[0m\u001b[0;31m:\u001b[0m leading zeros in decimal integer literals are not permitted; use an 0o prefix for octal integers\n"
          ]
        }
      ],
      "source": [
        "|RegionID|SizeRank|RegionName       |RegionType|StateName|2018-08-31|2018-09-30|2018-10-31|2018-11-30|2018-12-31|2019-01-31|2019-02-28|2019-03-31|2019-04-30|2019-05-31|2019-06-30|2019-07-31|2019-08-31|2019-09-30|2019-10-31|2019-11-30|2019-12-31|2020-01-31|2020-02-29|2020-03-31|2020-04-30|2020-05-31|2020-06-30|2020-07-31|2020-08-31|2020-09-30|2020-10-31|2020-11-30|2020-12-31|2021-01-31|2021-02-28|2021-03-31|2021-04-30|2021-05-31|2021-06-30|2021-07-31|2021-08-31|2021-09-30|2021-10-31|2021-11-30|2021-12-31|2022-01-31|2022-02-28|2022-03-31|2022-04-30|2022-05-31|2022-06-30|2022-07-31|2022-08-31|2022-09-30|2022-10-31|2022-11-30|2022-12-31|2023-01-31|2023-02-28|2023-03-31|2023-04-30|2023-05-31|2023-06-30|2023-07-31|2023-08-31|2023-09-30|2023-10-31|2023-11-30|2023-12-31|2024-01-31|2024-02-29|2024-03-31|2024-04-30|2024-05-31|2024-06-30|2024-07-31|2024-08-31|2024-09-30|2024-10-31|2024-11-30|2024-12-31|\n",
        "|--------|--------|-----------------|----------|---------|----------|----------|----------|----------|----------|----------|----------|----------|----------|----------|----------|----------|----------|----------|----------|----------|----------|----------|----------|----------|----------|----------|----------|----------|----------|----------|----------|----------|----------|----------|----------|----------|----------|----------|----------|----------|----------|----------|----------|----------|----------|----------|----------|----------|----------|----------|----------|----------|----------|----------|----------|----------|----------|----------|----------|----------|----------|----------|----------|----------|----------|----------|----------|----------|----------|----------|----------|----------|----------|----------|----------|----------|----------|----------|----------|----------|----------|\n",
        "|395057  |12      |San Francisco, CA|msa       |CA       |867156.0  |860232.0  |866577.0  |867320.0  |856363.0  |846847.0  |853231.0  |865075.0  |872270.0  |869744.0  |871070.0  |864500.0  |857112.0  |854839.0  |865744.0  |871460.0  |871743.0  |863752.0  |866628.0  |866463.0  |864722.0  |855078.0  |861535.0  |885841.0  |917479.0  |942909.0  |948908.0  |          |949002.0  |958635.0  |972467.0  |990557.0  |1020152.0 |1046129.0 |1068690.0 |1074100.0 |1069610.0 |1067117.0 |1062567.0 |1063977.0 |1050693.0 |1055367.0 |1072852.0 |1108944.0 |1152882.0 |1180412.0 |1186212.0 |1151654.0 |1105196.0 |1085278.0 |1085619.0 |1085578.0 |1056060.0 |1024324.0 |998828.0  |1010232.0 |1022659.0 |1041905.0 |1051192.0 |1060681.0 |1071896.0 |1086967.0 |1094273.0 |1110393.0 |1088322.0 |1064434.0 |1057346.0 |1093332.0 |1133049.0 |1148061.0 |1144073.0 |1144083.0 |1122859.0 |1113328.0 |1108812   |1123575   |1118493   |\n"
      ]
    },
    {
      "cell_type": "markdown",
      "metadata": {
        "id": "r5SobK0XmFXZ"
      },
      "source": [
        "## Dataset Housing Inventory"
      ]
    },
    {
      "cell_type": "code",
      "execution_count": 4,
      "metadata": {
        "id": "H-ERB_grmFXZ",
        "outputId": "af54e940-9702-4906-ded4-74fa0e3fa4f0",
        "colab": {
          "base_uri": "https://localhost:8080/"
        }
      },
      "outputs": [
        {
          "output_type": "stream",
          "name": "stdout",
          "text": [
            "  observation_date  median_house_pricing\n",
            "0       2016-07-01                   950\n",
            "1       2016-08-01                   924\n",
            "2       2016-09-01                   940\n",
            "3       2016-10-01                   930\n",
            "4       2016-11-01                   950\n"
          ]
        }
      ],
      "source": [
        "import pandas as pd\n",
        "\n",
        "url = 'https://raw.githubusercontent.com/COGS108/Group045_WI25/refs/heads/master/median_housing_in_sf.csv?token=GHSAT0AAAAAAC763MUWVZQDBLVMRY4GGDCEZ6KOYIQ'\n",
        "\n",
        "median = pd.read_csv(url)\n",
        "\n",
        "print(median.head())"
      ]
    },
    {
      "cell_type": "markdown",
      "metadata": {
        "id": "Ec3bqT-VmFXZ"
      },
      "source": [
        "# Results\n",
        "\n",
        "## Exploratory Data Analysis\n",
        "\n",
        "Carry out whatever EDA you need to for your project.  Because every project will be different we can't really give you much of a template at this point. But please make sure you describe the what and why in text here as well as providing interpretation of results and context."
      ]
    },
    {
      "cell_type": "markdown",
      "metadata": {
        "id": "zsCUGFzPmFXZ"
      },
      "source": [
        "### Section 1 of EDA - please give it a better title than this\n",
        "\n",
        "Some more words and stuff.  Remember notebooks work best if you interleave the code that generates a result with properly annotate figures and text that puts these results into context."
      ]
    },
    {
      "cell_type": "code",
      "execution_count": null,
      "metadata": {
        "id": "NOTWxr8hmFXa"
      },
      "outputs": [],
      "source": [
        "## YOUR CODE HERE\n",
        "## FEEL FREE TO ADD MULTIPLE CELLS PER SECTION"
      ]
    },
    {
      "cell_type": "markdown",
      "metadata": {
        "id": "1Z3J3my7mFXa"
      },
      "source": [
        "### Section 2 of EDA if you need it  - please give it a better title than this\n",
        "\n",
        "Some more words and stuff.  Remember notebooks work best if you interleave the code that generates a result with properly annotate figures and text that puts these results into context."
      ]
    },
    {
      "cell_type": "code",
      "execution_count": null,
      "metadata": {
        "id": "sDnpF0mmmFXa"
      },
      "outputs": [],
      "source": [
        "## YOUR CODE HERE\n",
        "## FEEL FREE TO ADD MULTIPLE CELLS PER SECTION"
      ]
    },
    {
      "cell_type": "markdown",
      "metadata": {
        "id": "DUup9xhLmFXa"
      },
      "source": [
        "# Ethics & Privacy"
      ]
    },
    {
      "cell_type": "markdown",
      "metadata": {
        "id": "VRPUz-PCmFXa"
      },
      "source": [
        "When analyzing how various features (square footage, number of bedrooms, neighborhood, year built) influence home prices in a city, it’s crucial to address ethical concerns related to data privacy, bias, and equitable analysis. Data privacy must be protected by ensuring that personal identifiable information, such as exact addresses, is removed, and that the dataset is used in compliance with what was agreed upon prior. Bias can arise if certain neighborhoods or house types are overrepresented, leading to skewed results. To detect these issues, exploratory data analysis (EDA) can help identify missing or unbalanced data distributions. Using interpretable models ensures that pricing determinants remain transparent and accountable.\n",
        "\n",
        "Ensuring the accuracy and reliability of the analysis is essential when studying the relationship between housing features and sale prices. Model selection plays a crucial role, as different regression techniques, such as linear regression or tree-based models, may yield varying results. It is important to evaluate model performance using appropriate metrics like RMSE (Root Mean Square Error) and R² to assess predictive accuracy. Furthermore, feature selection techniques, including multicollinearity checks and principal component analysis (PCA), can help refine the model by eliminating redundant or insignificant variables. Data preprocessing, such as handling missing values, normalizing continuous variables, and encoding categorical variables, ensures consistency and improves predictive performance. Lastly, cross-validation should be employed to prevent overfitting and ensure the model generalizes well to unseen data, reinforcing the credibility of the analysis.\n"
      ]
    },
    {
      "cell_type": "markdown",
      "metadata": {
        "id": "iDa7TXpOmFXa"
      },
      "source": [
        "# Team Expectations"
      ]
    },
    {
      "cell_type": "markdown",
      "metadata": {
        "id": "3MWgq5DwmFXa"
      },
      "source": [
        "\n",
        "* *1) Respond promptly within the instagram group chat the same day*\n",
        "* *2) Communicate issues or problems ahead of time*\n",
        "* *3) Setting aside time to meet that is scheduled*\n",
        "* *4) Making sure everyone contributes as equally as possible*\n",
        "* *5) Be open to everyone's ideas*\n",
        "* *6) If and when conflicts arise, clearly confront the issue in a respectful manner to ultimately come up with a solution*\n"
      ]
    },
    {
      "cell_type": "markdown",
      "metadata": {
        "id": "gH6FaCAnmFXa"
      },
      "source": [
        "# Project Timeline Proposal"
      ]
    },
    {
      "cell_type": "markdown",
      "metadata": {
        "id": "G6PQOdarmFXa"
      },
      "source": [
        "\n",
        "\n",
        "\n",
        "| Meeting Date  | Meeting Time| Completed Before Meeting  | Discuss at Meeting |\n",
        "|---|---|---|---|\n",
        "| 2/09  |  1:30 PM | Read & Think about COGS 108 expectations (Landon, Jocelyn, Kevin); brainstorm topics/questions  | Determine best form of communication; Discuss and decide on final project topic; discuss hypothesis; begin background research |\n",
        "| 2/09|  1:30 PM |  Do background research on topic (Everyone)| Discuss ideal dataset(s) and ethics; draft project proposal |\n",
        "| 2/09  | 8:00 PM  | Edit, finalize, and submit proposal; Search for datasets (Everyone) | Discuss Wrangling and possible analytical approaches; Assign group members to lead each specific part   |\n",
        "| 2/22  | 12:00 PM  | Work on data checkpoint #1 (Landon, Kevin, Jocelyn, Leyna)| Update project propsal with TA suggestions (Landon, Jocelyn)  |\n",
        "| 3/1  | 1:30 PM  | Import & Wrangle Data (Alexa); EDA(Leyna) | Review/Edit wrangling/EDA; Discuss Analysis Plan   |\n",
        "| 3/8  | 1:30 PM  | Finalize wrangling/EDA; Begin Analysis (Leyna; Alexa) | Discuss/edit Analysis; Complete project check-in |\n",
        "| 3/15  | 1:30 PM  | Complete analysis; Draft results/conclusion/discussion (Landon, Jocelyn, Kevin)| Discuss/edit full project |\n",
        "| 3/19  | 1:30 PM  | NA | Turn in Final Project & Group Project Surveys |"
      ]
    }
  ],
  "metadata": {
    "kernelspec": {
      "display_name": "Python 3 (ipykernel)",
      "language": "python",
      "name": "python3"
    },
    "language_info": {
      "codemirror_mode": {
        "name": "ipython",
        "version": 3
      },
      "file_extension": ".py",
      "mimetype": "text/x-python",
      "name": "python",
      "nbconvert_exporter": "python",
      "pygments_lexer": "ipython3",
      "version": "3.9.7"
    },
    "colab": {
      "provenance": []
    }
  },
  "nbformat": 4,
  "nbformat_minor": 0
}